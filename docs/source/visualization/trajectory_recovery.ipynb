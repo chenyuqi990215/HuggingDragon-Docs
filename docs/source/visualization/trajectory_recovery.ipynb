{
 "cells": [
  {
   "cell_type": "markdown",
   "metadata": {},
   "source": [
    "## Visualization of Trajectory Recovery\n",
    "\n",
    "In this tutorial, we show the process of visualizing trajectory recovery tasks using pretrained models.\n",
    "\n",
    "### Step 1: Import necessary packages."
   ]
  },
  {
   "cell_type": "code",
   "execution_count": 1,
   "metadata": {},
   "outputs": [],
   "source": [
    "from IPython.display import IFrame\n",
    "from huggingdragon.visualizer import TrajRecVisualizer\n",
    "import numpy as np"
   ]
  },
  {
   "cell_type": "markdown",
   "metadata": {},
   "source": [
    "### Step 2: Load pretrained model.\n",
    "\n",
    "In this step, we will first download the checkpoint from Google Drive. Next, the configuration file will be loaded, and the runtime parameters will be obtained from the YAML config."
   ]
  },
  {
   "cell_type": "code",
   "execution_count": 2,
   "metadata": {},
   "outputs": [
    {
     "name": "stdout",
     "output_type": "stream",
     "text": [
      "Download checkpoint!\n"
     ]
    },
    {
     "data": {
      "text/plain": [
       "MTrajRec(\n",
       "  (encoder): Encoder(\n",
       "    (pred_out): Linear(in_features=128, out_features=1, bias=True)\n",
       "    (network): GRU(3, 128)\n",
       "    (extra): ExtraMLP(\n",
       "      (fc_out): Linear(in_features=25, out_features=8, bias=True)\n",
       "    )\n",
       "    (fc_hid): Linear(in_features=136, out_features=128, bias=True)\n",
       "  )\n",
       "  (decoder): DecoderMulti(\n",
       "    (emb_id): Embedding(12614, 128)\n",
       "    (tandem_fc): Sequential(\n",
       "      (0): Linear(in_features=256, out_features=128, bias=True)\n",
       "      (1): ReLU()\n",
       "    )\n",
       "    (attn): Attention(\n",
       "      (attn): Linear(in_features=256, out_features=128, bias=True)\n",
       "      (v): Linear(in_features=128, out_features=1, bias=False)\n",
       "    )\n",
       "    (rnn): GRU(257, 128)\n",
       "    (fc_id_out): Linear(in_features=128, out_features=12614, bias=True)\n",
       "    (fc_rate_out): Linear(in_features=128, out_features=1, bias=True)\n",
       "    (dropout): Dropout(p=0.1, inplace=False)\n",
       "  )\n",
       ")"
      ]
     },
     "execution_count": 2,
     "metadata": {},
     "output_type": "execute_result"
    }
   ],
   "source": [
    "model = TrajRecVisualizer.from_pretrained('MTrajRec_Porto')\n",
    "model"
   ]
  },
  {
   "cell_type": "markdown",
   "metadata": {},
   "source": [
    "### Step 3: Obtain the outputs\n",
    "\n",
    "In this step, we first create a trajectory, and then forward it to the network to obtain the recovered trajectory."
   ]
  },
  {
   "cell_type": "code",
   "execution_count": 3,
   "metadata": {},
   "outputs": [],
   "source": [
    "traj = [\n",
    "    [1372638641, 41.16420900, -8.62301700],\n",
    "    [1372638761, 41.16493800, -8.62815600],\n",
    "    [1372638881, 41.16491100, -8.62840800],\n",
    "    [1372639001, 41.16353400, -8.62766100],\n",
    "    [1372639121, 41.16274200, -8.62098300],\n",
    "    [1372639241, 41.16105900, -8.60751900],\n",
    "    [1372639361, 41.15347200, -8.59973400],\n",
    "    [1372639481, 41.14691100, -8.59778100],\n",
    "]"
   ]
  },
  {
   "cell_type": "code",
   "execution_count": 4,
   "metadata": {},
   "outputs": [
    {
     "name": "stdout",
     "output_type": "stream",
     "text": [
      "Predict output generated!\n"
     ]
    }
   ],
   "source": [
    "outputs = TrajRecVisualizer.get_prediction('MTrajRec_Porto', traj, model, time_interval=15)"
   ]
  },
  {
   "cell_type": "markdown",
   "metadata": {},
   "source": [
    "### Step 4: Visualization\n",
    "\n",
    "We use `folium` package to visualize the input trajectory as well as the output trajectory. Orange stars represent the input trajectory, while the purple line is the output trajectory."
   ]
  },
  {
   "cell_type": "code",
   "execution_count": 5,
   "metadata": {},
   "outputs": [],
   "source": [
    "TrajRecVisualizer.get_visualization(np.array(traj)[:, 1:], outputs[1:], 'MTrajRec.html')"
   ]
  },
  {
   "cell_type": "code",
   "execution_count": 6,
   "metadata": {
    "scrolled": true
   },
   "outputs": [
    {
     "data": {
      "text/html": [
       "\n",
       "        <iframe\n",
       "            width=\"500\"\n",
       "            height=\"300\"\n",
       "            src=\"MTrajRec.html\"\n",
       "            frameborder=\"0\"\n",
       "            allowfullscreen\n",
       "            \n",
       "        ></iframe>\n",
       "        "
      ],
      "text/plain": [
       "<IPython.lib.display.IFrame at 0x7fa80268de80>"
      ]
     },
     "execution_count": 6,
     "metadata": {},
     "output_type": "execute_result"
    }
   ],
   "source": [
    "IFrame(src='MTrajRec.html', width=500, height=300)"
   ]
  }
 ],
 "metadata": {
  "kernelspec": {
   "display_name": "Python (py3.8)",
   "language": "python",
   "name": "py3.8"
  },
  "language_info": {
   "codemirror_mode": {
    "name": "ipython",
    "version": 3
   },
   "file_extension": ".py",
   "mimetype": "text/x-python",
   "name": "python",
   "nbconvert_exporter": "python",
   "pygments_lexer": "ipython3",
   "version": "3.8.17"
  }
 },
 "nbformat": 4,
 "nbformat_minor": 4
}
